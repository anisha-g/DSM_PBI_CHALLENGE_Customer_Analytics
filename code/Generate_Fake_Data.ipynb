{
 "cells": [
  {
   "cell_type": "code",
   "execution_count": 5,
   "id": "4cdc10c2-1cd7-4832-acd4-3039626acbb9",
   "metadata": {},
   "outputs": [
    {
     "name": "stdout",
     "output_type": "stream",
     "text": [
      "Data saved to fake_advertising_data.csv\n"
     ]
    }
   ],
   "source": [
    "import pandas as pd\n",
    "import numpy as np\n",
    "from datetime import datetime\n",
    "\n",
    "# Number of campaigns and regions\n",
    "num_campaigns = 10\n",
    "regions = ['Mumbai', 'Delhi', 'Bangalore']\n",
    "\n",
    "# Date range\n",
    "start_date = datetime(2022, 1, 1)\n",
    "end_date = datetime(2023, 12, 31)\n",
    "date_range = pd.date_range(start_date, end_date)\n",
    "\n",
    "# Function to generate fake data\n",
    "def generate_fake_data(num_campaigns, regions, date_range):\n",
    "    data = []\n",
    "    for date in date_range:\n",
    "        for campaign_id in range(1, num_campaigns + 1):\n",
    "            for region in regions:\n",
    "                ad_impressions = np.random.randint(500, 2000)\n",
    "                ad_clicks = np.random.randint(50, 500)\n",
    "                ctr = ad_clicks / ad_impressions\n",
    "                conversion_rate = np.random.uniform(0.01, 0.10)\n",
    "                cpc = np.random.uniform(0.05, 1.00)\n",
    "                cpm = np.random.uniform(5.00, 20.00)\n",
    "                roas = np.random.uniform(1, 5)\n",
    "                \n",
    "                data.append([\n",
    "                    campaign_id, \n",
    "                    date, \n",
    "                    region, \n",
    "                    ad_impressions, \n",
    "                    ad_clicks, \n",
    "                    ctr, \n",
    "                    conversion_rate, \n",
    "                    cpc, \n",
    "                    cpm, \n",
    "                    roas\n",
    "                ])\n",
    "    \n",
    "    columns = ['Campaign ID', 'Date', 'Region', 'Ad Impressions', 'Ad Clicks', 'CTR', 'Conversion Rate', 'CPC', 'CPM', 'ROAS']\n",
    "    return pd.DataFrame(data, columns=columns)\n",
    "\n",
    "# Generate the data\n",
    "fake_ad_data = generate_fake_data(num_campaigns, regions, date_range)\n",
    "\n",
    "# Save the data to a CSV file\n",
    "file_path = 'fake_advertising_data.csv'\n",
    "fake_ad_data.to_csv(file_path, index=False)\n",
    "\n",
    "print(f\"Data saved to {file_path}\")\n"
   ]
  },
  {
   "cell_type": "code",
   "execution_count": 2,
   "id": "0185b894-86be-4c25-a230-ac22ee6a4ea1",
   "metadata": {},
   "outputs": [
    {
     "name": "stdout",
     "output_type": "stream",
     "text": [
      "Collecting pandas\n",
      "  Using cached pandas-2.2.2-cp39-cp39-win_amd64.whl.metadata (19 kB)\n",
      "Collecting numpy>=1.22.4 (from pandas)\n",
      "  Downloading numpy-2.0.0-cp39-cp39-win_amd64.whl.metadata (60 kB)\n",
      "     ---------------------------------------- 0.0/60.9 kB ? eta -:--:--\n",
      "     ------------------- ------------------ 30.7/60.9 kB 660.6 kB/s eta 0:00:01\n",
      "     -------------------------------------- 60.9/60.9 kB 804.1 kB/s eta 0:00:00\n",
      "Requirement already satisfied: python-dateutil>=2.8.2 in c:\\users\\anisha\\anaconda3\\envs\\data_analysis\\lib\\site-packages (from pandas) (2.9.0)\n",
      "Requirement already satisfied: pytz>=2020.1 in c:\\users\\anisha\\anaconda3\\envs\\data_analysis\\lib\\site-packages (from pandas) (2024.1)\n",
      "Collecting tzdata>=2022.7 (from pandas)\n",
      "  Using cached tzdata-2024.1-py2.py3-none-any.whl.metadata (1.4 kB)\n",
      "Requirement already satisfied: six>=1.5 in c:\\users\\anisha\\anaconda3\\envs\\data_analysis\\lib\\site-packages (from python-dateutil>=2.8.2->pandas) (1.16.0)\n",
      "Using cached pandas-2.2.2-cp39-cp39-win_amd64.whl (11.6 MB)\n",
      "Downloading numpy-2.0.0-cp39-cp39-win_amd64.whl (16.5 MB)\n",
      "   ---------------------------------------- 0.0/16.5 MB ? eta -:--:--\n",
      "    --------------------------------------- 0.3/16.5 MB 7.0 MB/s eta 0:00:03\n",
      "   - -------------------------------------- 0.7/16.5 MB 7.5 MB/s eta 0:00:03\n",
      "   -- ------------------------------------- 1.2/16.5 MB 8.6 MB/s eta 0:00:02\n",
      "   --- ------------------------------------ 1.6/16.5 MB 8.4 MB/s eta 0:00:02\n",
      "   ----- ---------------------------------- 2.1/16.5 MB 8.9 MB/s eta 0:00:02\n",
      "   ------ --------------------------------- 2.6/16.5 MB 9.8 MB/s eta 0:00:02\n",
      "   ------- -------------------------------- 3.1/16.5 MB 9.2 MB/s eta 0:00:02\n",
      "   -------- ------------------------------- 3.6/16.5 MB 9.9 MB/s eta 0:00:02\n",
      "   --------- ------------------------------ 4.1/16.5 MB 10.1 MB/s eta 0:00:02\n",
      "   ----------- ---------------------------- 4.5/16.5 MB 10.0 MB/s eta 0:00:02\n",
      "   ----------- ---------------------------- 4.9/16.5 MB 9.8 MB/s eta 0:00:02\n",
      "   ------------- -------------------------- 5.4/16.5 MB 9.8 MB/s eta 0:00:02\n",
      "   -------------- ------------------------- 5.9/16.5 MB 9.9 MB/s eta 0:00:02\n",
      "   --------------- ------------------------ 6.4/16.5 MB 10.0 MB/s eta 0:00:02\n",
      "   ---------------- ----------------------- 6.8/16.5 MB 9.9 MB/s eta 0:00:01\n",
      "   ----------------- ---------------------- 7.4/16.5 MB 10.0 MB/s eta 0:00:01\n",
      "   ------------------- -------------------- 7.9/16.5 MB 10.1 MB/s eta 0:00:01\n",
      "   -------------------- ------------------- 8.4/16.5 MB 10.2 MB/s eta 0:00:01\n",
      "   --------------------- ------------------ 9.0/16.5 MB 10.2 MB/s eta 0:00:01\n",
      "   ---------------------- ----------------- 9.4/16.5 MB 10.2 MB/s eta 0:00:01\n",
      "   ----------------------- ---------------- 9.8/16.5 MB 10.1 MB/s eta 0:00:01\n",
      "   ------------------------- -------------- 10.4/16.5 MB 10.2 MB/s eta 0:00:01\n",
      "   ------------------------- -------------- 10.7/16.5 MB 10.2 MB/s eta 0:00:01\n",
      "   --------------------------- ------------ 11.2/16.5 MB 10.4 MB/s eta 0:00:01\n",
      "   ---------------------------- ----------- 11.8/16.5 MB 10.2 MB/s eta 0:00:01\n",
      "   ----------------------------- ---------- 12.2/16.5 MB 10.4 MB/s eta 0:00:01\n",
      "   ------------------------------ --------- 12.5/16.5 MB 10.4 MB/s eta 0:00:01\n",
      "   ------------------------------- -------- 12.9/16.5 MB 10.2 MB/s eta 0:00:01\n",
      "   ------------------------------- -------- 13.0/16.5 MB 10.1 MB/s eta 0:00:01\n",
      "   -------------------------------- ------- 13.4/16.5 MB 9.8 MB/s eta 0:00:01\n",
      "   --------------------------------- ------ 13.7/16.5 MB 9.6 MB/s eta 0:00:01\n",
      "   ---------------------------------- ----- 14.1/16.5 MB 9.4 MB/s eta 0:00:01\n",
      "   ---------------------------------- ----- 14.4/16.5 MB 9.2 MB/s eta 0:00:01\n",
      "   ----------------------------------- ---- 14.8/16.5 MB 9.2 MB/s eta 0:00:01\n",
      "   ------------------------------------ --- 15.1/16.5 MB 9.2 MB/s eta 0:00:01\n",
      "   ------------------------------------- -- 15.5/16.5 MB 9.0 MB/s eta 0:00:01\n",
      "   -------------------------------------- - 16.1/16.5 MB 9.2 MB/s eta 0:00:01\n",
      "   ---------------------------------------  16.5/16.5 MB 9.1 MB/s eta 0:00:01\n",
      "   ---------------------------------------- 16.5/16.5 MB 9.0 MB/s eta 0:00:00\n",
      "Using cached tzdata-2024.1-py2.py3-none-any.whl (345 kB)\n",
      "Installing collected packages: tzdata, numpy, pandas\n",
      "Successfully installed numpy-2.0.0 pandas-2.2.2 tzdata-2024.1\n"
     ]
    }
   ],
   "source": [
    "!pip install pandas\n"
   ]
  },
  {
   "cell_type": "code",
   "execution_count": null,
   "id": "2c4e54fc-97fc-4f38-b56b-f5844e4c5c0a",
   "metadata": {},
   "outputs": [],
   "source": []
  }
 ],
 "metadata": {
  "kernelspec": {
   "display_name": "Python 3 (ipykernel)",
   "language": "python",
   "name": "python3"
  },
  "language_info": {
   "codemirror_mode": {
    "name": "ipython",
    "version": 3
   },
   "file_extension": ".py",
   "mimetype": "text/x-python",
   "name": "python",
   "nbconvert_exporter": "python",
   "pygments_lexer": "ipython3",
   "version": "3.9.19"
  }
 },
 "nbformat": 4,
 "nbformat_minor": 5
}
